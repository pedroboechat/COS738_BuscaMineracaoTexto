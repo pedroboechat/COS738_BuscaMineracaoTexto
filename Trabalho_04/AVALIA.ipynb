{
 "cells": [
  {
   "cell_type": "markdown",
   "metadata": {},
   "source": [
    "## Imports"
   ]
  },
  {
   "cell_type": "code",
   "execution_count": 1,
   "metadata": {},
   "outputs": [],
   "source": [
    "from ast import literal_eval\n",
    "\n",
    "import pandas as pd\n",
    "import numpy as np\n",
    "import matplotlib.pyplot as plt\n",
    "from matplotlib.lines import Line2D"
   ]
  },
  {
   "cell_type": "markdown",
   "metadata": {},
   "source": [
    "## Load DataFrames"
   ]
  },
  {
   "cell_type": "markdown",
   "metadata": {},
   "source": [
    "### 1) Processed queries"
   ]
  },
  {
   "cell_type": "code",
   "execution_count": 2,
   "metadata": {},
   "outputs": [],
   "source": [
    "processed_queries = pd.read_csv(\n",
    "    \"./RESULT/processed_queries.csv\",\n",
    "    sep = \";\"\n",
    ")"
   ]
  },
  {
   "cell_type": "markdown",
   "metadata": {},
   "source": [
    "### 2) Expected results"
   ]
  },
  {
   "cell_type": "code",
   "execution_count": 3,
   "metadata": {},
   "outputs": [],
   "source": [
    "raw_expected_results = pd.read_csv(\n",
    "    \"./RESULT/expected_results.csv\",\n",
    "    sep = \";\"\n",
    ")\n",
    "\n",
    "expected_results = pd.DataFrame(\n",
    "    columns = [\n",
    "        \"SearchNumber\",\n",
    "        \"Results\"\n",
    "    ]\n",
    ")\n",
    "\n",
    "for query_number in raw_expected_results[\"QueryNumber\"].unique():\n",
    "    query_df = raw_expected_results.loc[\n",
    "        raw_expected_results[\"QueryNumber\"] == query_number\n",
    "    ].iloc[:, 1:]\n",
    "    result_tuples = []\n",
    "    rank = 0\n",
    "    for doc, score in query_df.sort_values(\"DocVotes\", ascending=False).itertuples(False, None):\n",
    "        rank += 1\n",
    "        result_tuples.append((rank, doc, score))\n",
    "    expected_results = pd.concat([\n",
    "        expected_results,\n",
    "        pd.DataFrame(\n",
    "            [(\n",
    "                query_number,\n",
    "                result_tuples\n",
    "            )],\n",
    "            columns = [\n",
    "                \"SearchNumber\",\n",
    "                \"Results\"\n",
    "            ]\n",
    "        )\n",
    "    ])\n",
    "\n",
    "expected_results = expected_results.reset_index(drop=True)"
   ]
  },
  {
   "cell_type": "markdown",
   "metadata": {},
   "source": [
    "### 3) Search results (without stemmer)"
   ]
  },
  {
   "cell_type": "code",
   "execution_count": 4,
   "metadata": {},
   "outputs": [],
   "source": [
    "search_results = pd.read_csv(\n",
    "    \"./RESULT/search_results.csv\",\n",
    "    sep = \";\",\n",
    "    converters = {\n",
    "        \"Results\": literal_eval\n",
    "    }\n",
    ")"
   ]
  },
  {
   "cell_type": "markdown",
   "metadata": {},
   "source": [
    "### 4) Search results (with stemmer)"
   ]
  },
  {
   "cell_type": "code",
   "execution_count": 5,
   "metadata": {},
   "outputs": [],
   "source": [
    "search_results_stemmer = pd.read_csv(\n",
    "    \"./RESULT/search_results_stemmer.csv\",\n",
    "    sep = \";\",\n",
    "    converters = {\n",
    "        \"Results\": literal_eval\n",
    "    }\n",
    ")"
   ]
  },
  {
   "cell_type": "markdown",
   "metadata": {},
   "source": [
    "## Helper functions"
   ]
  },
  {
   "cell_type": "code",
   "execution_count": 6,
   "metadata": {},
   "outputs": [],
   "source": [
    "def get_docs_from_results(results: pd.Series, threshold: float = 0.0) -> list:\n",
    "    docs = list()\n",
    "    for result in results:\n",
    "        score = float(result[2])\n",
    "        if score > threshold:\n",
    "            docs.append(int(result[1]))\n",
    "    return docs\n"
   ]
  },
  {
   "cell_type": "markdown",
   "metadata": {},
   "source": [
    "## Analysis"
   ]
  },
  {
   "cell_type": "markdown",
   "metadata": {},
   "source": [
    "### 0) Stats extraction"
   ]
  },
  {
   "cell_type": "code",
   "execution_count": 7,
   "metadata": {},
   "outputs": [
    {
     "name": "stderr",
     "output_type": "stream",
     "text": [
      "C:\\Users\\pedro\\AppData\\Local\\Temp\\ipykernel_28240\\244099284.py:40: RuntimeWarning: invalid value encountered in true_divide\n",
      "  np.divide(\n"
     ]
    }
   ],
   "source": [
    "stats_dict = dict()\n",
    "\n",
    "for name, df in [\n",
    "    (\"no_stemmer\", search_results),\n",
    "    (\"stemmer\", search_results_stemmer)\n",
    "]:\n",
    "    # Empty lists\n",
    "    precisions_list = []\n",
    "    recalls_list = []\n",
    "    relevant_recovered_docs_list = []\n",
    "    recovered_docs_list = []\n",
    "    relevant_docs_list = []\n",
    "    p5_list = []\n",
    "    p10_list = []\n",
    "    r_precision_list = []\n",
    "\n",
    "    for query_number in df[\"SearchNumber\"].unique():\n",
    "        # Recovered docs set\n",
    "        recovered_docs = set(\n",
    "            get_docs_from_results(\n",
    "                df.loc[\n",
    "                    df[\"SearchNumber\"] == query_number\n",
    "                ][\"Results\"].iloc[0],\n",
    "                threshold = 4\n",
    "            )\n",
    "        )\n",
    "\n",
    "        # Relevant docs set\n",
    "        relevant_docs = set(\n",
    "            get_docs_from_results(\n",
    "                expected_results.loc[\n",
    "                    expected_results[\"SearchNumber\"] == query_number\n",
    "                ][\"Results\"].iloc[0]\n",
    "            )\n",
    "        )\n",
    "\n",
    "        relevant_recovered_docs_list.append(len(recovered_docs.intersection(relevant_docs)))\n",
    "        recovered_docs_list.append(len(recovered_docs))\n",
    "        relevant_docs_list.append(len(relevant_docs))\n",
    "\n",
    "        # List of precisions\n",
    "        precisions_list.append(\n",
    "            np.divide(\n",
    "                len(recovered_docs.intersection(relevant_docs)),\n",
    "                len(recovered_docs)\n",
    "            )\n",
    "        )\n",
    "        # List of recalls\n",
    "        recalls_list.append(\n",
    "            np.divide(\n",
    "                len(recovered_docs.intersection(relevant_docs)),\n",
    "                len(relevant_docs)\n",
    "            )\n",
    "        )\n",
    "        # List of P@5s\n",
    "        p5_list.append(\n",
    "            np.divide(\n",
    "                len(\n",
    "                    set(\n",
    "                        get_docs_from_results(\n",
    "                            df.loc[\n",
    "                                df[\"SearchNumber\"] == query_number\n",
    "                            ][\"Results\"].iloc[0][:5],\n",
    "                            threshold = 4\n",
    "                        )\n",
    "                    ).intersection(relevant_docs)\n",
    "                ),\n",
    "                5\n",
    "            )\n",
    "        )\n",
    "        # List of P@10s\n",
    "        p10_list.append(\n",
    "            np.divide(\n",
    "                len(\n",
    "                    set(\n",
    "                        get_docs_from_results(\n",
    "                            df.loc[\n",
    "                                df[\"SearchNumber\"] == query_number\n",
    "                            ][\"Results\"].iloc[0][:10],\n",
    "                            threshold = 4\n",
    "                        )\n",
    "                    ).intersection(relevant_docs)\n",
    "                ),\n",
    "                10\n",
    "            )\n",
    "        )\n",
    "        # List of R-Precisions\n",
    "        r_precision_list.append(\n",
    "            np.divide(\n",
    "                len(\n",
    "                    set(\n",
    "                        get_docs_from_results(\n",
    "                            df.loc[\n",
    "                                df[\"SearchNumber\"] == query_number\n",
    "                            ][\"Results\"].iloc[0],\n",
    "                            threshold = 4\n",
    "                        )[:len(relevant_docs)]\n",
    "                    ).intersection(relevant_docs)\n",
    "                ),\n",
    "                len(relevant_docs)\n",
    "            )\n",
    "        )\n",
    "\n",
    "    precisions_list = np.nan_to_num(precisions_list)\n",
    "    recalls_list = np.nan_to_num(recalls_list)\n",
    "\n",
    "    mean_precision = np.mean(precisions_list)\n",
    "    mean_recall = np.mean(recalls_list)\n",
    "\n",
    "    stats_dict[name] = {\n",
    "        \"precision\": precisions_list,\n",
    "        \"recall\": recalls_list,\n",
    "        \"mean_precision\": mean_precision,\n",
    "        \"mean_recall\": mean_recall,\n",
    "        \"relevant_recovered_docs\": relevant_recovered_docs_list,\n",
    "        \"recovered_docs\": recovered_docs_list,\n",
    "        \"relevant_docs\": relevant_docs_list,\n",
    "        \"p@5\": p5_list,\n",
    "        \"p@10\": p10_list,\n",
    "        \"r_precision\": r_precision_list\n",
    "    }"
   ]
  },
  {
   "cell_type": "markdown",
   "metadata": {},
   "source": [
    "### 1) 11 point precision and recall graph"
   ]
  },
  {
   "cell_type": "code",
   "execution_count": 8,
   "metadata": {},
   "outputs": [
    {
     "data": {
      "image/png": "[encoded data removed]",
      "text/plain": [
       "<Figure size 432x288 with 1 Axes>"
      ]
     },
     "metadata": {
      "needs_background": "light"
     },
     "output_type": "display_data"
    }
   ],
   "source": [
    "for key in stats_dict.keys():\n",
    "\n",
    "    eleven_point = pd.DataFrame(\n",
    "        [i for i in zip(stats_dict[key][\"recall\"], stats_dict[key][\"precision\"])],\n",
    "        columns=[\"recall\", \"precision\"]\n",
    "    )\n",
    "\n",
    "    x = []\n",
    "    y = []\n",
    "\n",
    "    for t in range(11):\n",
    "        threshold = t/10\n",
    "        split = eleven_point.loc[\n",
    "            eleven_point[\"recall\"] > threshold\n",
    "        ]\n",
    "        x.append(np.mean(split[\"recall\"]))\n",
    "        y.append(np.mean(split[\"precision\"]))\n",
    "\n",
    "    plt.plot(x, y, label=key.replace(\"_\",\" \").capitalize())\n",
    "\n",
    "plt.title(\"11 point precision and recall graph\")\n",
    "plt.xlabel(\"Recall\")\n",
    "plt.ylabel(\"Precision\")\n",
    "plt.legend();"
   ]
  },
  {
   "cell_type": "markdown",
   "metadata": {},
   "source": [
    "### 2) $\\mathrm{F_{1}}$"
   ]
  },
  {
   "cell_type": "code",
   "execution_count": 9,
   "metadata": {},
   "outputs": [
    {
     "name": "stdout",
     "output_type": "stream",
     "text": [
      "F1 (no_stemmer): 0.24\n",
      "F1 (stemmer): 0.25\n"
     ]
    }
   ],
   "source": [
    "for key in stats_dict.keys():\n",
    "    print(\n",
    "        f\"F1 ({key}):\",\n",
    "        np.round(\n",
    "            (\n",
    "                2*stats_dict[key][\"mean_precision\"]*stats_dict[key][\"mean_recall\"]\n",
    "            )/(\n",
    "                stats_dict[key][\"mean_precision\"]+stats_dict[key][\"mean_recall\"]\n",
    "            ),\n",
    "            2\n",
    "        )\n",
    "    )"
   ]
  },
  {
   "cell_type": "markdown",
   "metadata": {},
   "source": [
    "### 3) Precision at 5"
   ]
  },
  {
   "cell_type": "code",
   "execution_count": 10,
   "metadata": {},
   "outputs": [
    {
     "name": "stdout",
     "output_type": "stream",
     "text": [
      "Precision@5 (no_stemmer): 0.41\n",
      "Precision@5 (stemmer): 0.48\n"
     ]
    }
   ],
   "source": [
    "for key in stats_dict.keys():\n",
    "    print(\n",
    "        f\"Precision@5 ({key}):\",\n",
    "        np.round(\n",
    "            np.mean(stats_dict[key][\"p@5\"]),\n",
    "            2\n",
    "        )\n",
    "    )"
   ]
  },
  {
   "cell_type": "markdown",
   "metadata": {},
   "source": [
    "### 4) Precision at 10"
   ]
  },
  {
   "cell_type": "code",
   "execution_count": 11,
   "metadata": {},
   "outputs": [
    {
     "name": "stdout",
     "output_type": "stream",
     "text": [
      "Precision@10 (no_stemmer): 0.35\n",
      "Precision@10 (stemmer): 0.4\n"
     ]
    }
   ],
   "source": [
    "for key in stats_dict.keys():\n",
    "    print(\n",
    "        f\"Precision@10 ({key}):\",\n",
    "        np.round(\n",
    "            np.mean(stats_dict[key][\"p@10\"]),\n",
    "            2\n",
    "        )\n",
    "    )"
   ]
  },
  {
   "cell_type": "markdown",
   "metadata": {},
   "source": [
    "### 5) Comparative R-Precision histogram"
   ]
  },
  {
   "cell_type": "code",
   "execution_count": 12,
   "metadata": {},
   "outputs": [
    {
     "data": {
      "image/png": "[encoded data removed]",
      "text/plain": [
       "<Figure size 576x720 with 1 Axes>"
      ]
     },
     "metadata": {
      "needs_background": "light"
     },
     "output_type": "display_data"
    }
   ],
   "source": [
    "fig, ax = plt.subplots(1, figsize=(8,10))\n",
    "\n",
    "rp_diff_list = [\n",
    "    a - b\n",
    "    for a, b in zip(\n",
    "        stats_dict[\"stemmer\"][\"r_precision\"],\n",
    "        stats_dict[\"no_stemmer\"][\"r_precision\"]\n",
    "    )\n",
    "]\n",
    "\n",
    "ax.barh(\n",
    "    df[\"SearchNumber\"].unique(),\n",
    "    rp_diff_list,\n",
    "    color=np.where(np.array(rp_diff_list) < 0, 'C1', 'C0')\n",
    ")\n",
    "\n",
    "ax.set_title(\"R-Precision comparison\")\n",
    "ax.set_xlabel(\"Difference\")\n",
    "ax.set_ylabel(\"Query\")\n",
    "ax.set_xticks(list(np.arange(-0.25,0.26,0.05)))\n",
    "ax.set_yticks(list(np.arange(0,101,10)));\n",
    "\n",
    "legend_elements = [\n",
    "    Line2D([0], [0], color='C1', lw=3, label='No stemmer'),\n",
    "    Line2D([0], [0], color='C0', lw=3, label='Stemmer')\n",
    "]\n",
    "ax.legend(handles=legend_elements, loc='center left');"
   ]
  },
  {
   "cell_type": "markdown",
   "metadata": {},
   "source": [
    "### 6) MAP"
   ]
  },
  {
   "cell_type": "code",
   "execution_count": null,
   "metadata": {},
   "outputs": [],
   "source": []
  },
  {
   "cell_type": "markdown",
   "metadata": {},
   "source": [
    "### 7) MRR"
   ]
  },
  {
   "cell_type": "code",
   "execution_count": null,
   "metadata": {},
   "outputs": [],
   "source": []
  },
  {
   "cell_type": "markdown",
   "metadata": {},
   "source": [
    "### 8) Mean Discounted Cumulative Gain"
   ]
  },
  {
   "cell_type": "code",
   "execution_count": null,
   "metadata": {},
   "outputs": [],
   "source": []
  },
  {
   "cell_type": "markdown",
   "metadata": {},
   "source": [
    "### 9) Normalized Discounted Cumulative Gain"
   ]
  },
  {
   "cell_type": "code",
   "execution_count": null,
   "metadata": {},
   "outputs": [],
   "source": []
  }
 ],
 "metadata": {
  "kernelspec": {
   "display_name": "Python 3.9.7 ('base')",
   "language": "python",
   "name": "python3"
  },
  "language_info": {
   "codemirror_mode": {
    "name": "ipython",
    "version": 3
   },
   "file_extension": ".py",
   "mimetype": "text/x-python",
   "name": "python",
   "nbconvert_exporter": "python",
   "pygments_lexer": "ipython3",
   "version": "3.9.12"
  },
  "orig_nbformat": 4,
  "vscode": {
   "interpreter": {
    "hash": "aea149784bd30735ce6bf75b9a5314843328adf2083b944f20623ef50c2ca00d"
   }
  }
 },
 "nbformat": 4,
 "nbformat_minor": 2
}
